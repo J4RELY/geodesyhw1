{
 "cells": [
  {
   "cell_type": "markdown",
   "metadata": {},
   "source": [
    "# Converting Geodetic ↔ ECEF Cartesian Coordinates"
   ]
  },
  {
   "cell_type": "markdown",
   "metadata": {},
   "source": [
    "<b> important equations and variables: </b><br>\n",
    "$X = (N+h)cos\\phi cos\\lambda$ <br>\n",
    "$Y = (N+h)cos\\phi sin\\lambda$ <br>\n",
    "$Z = [N(1-e^2)+h]sin\\phi$ <br>\n",
    "$\\phi = atan(\\frac{Z+e^2bsin^3\\theta}{p-e^2 acos^3\\theta})$ <br>\n",
    "$\\lambda = atan2(Y,X)$ <br>\n",
    "$h = \\frac{p}{cos\\phi}-N(\\phi)$ <br>\n",
    "$p = \\sqrt{X^2+Y^2}$ <br>\n",
    "$\\theta = atan(\\frac{Za}{pb})$ <br>\n",
    "$e^2 = \\frac{a^2-b^2}{b^2}$ <br>\n",
    "where <br>\n",
    "$\\phi$, $\\lambda$, $h$ = geodetic latitude, longitude, and height <br> \n",
    "XYZ = earth centered earth fixed (ECEF) cartesian coordinates <br> \n",
    "and: <br>\n",
    "$N(Φ) = a / \\sqrt{1-e^2sin^2\\phi} = \\text{radius of curvature in prime vertical}$ <br>\n",
    "$a = 6378137 = \\text{semi-major earth axis in meters}$ <br>\n",
    "$b = 6356752 = \\text{semi-minor earth axis in meters}$ <br>\n",
    "$f = \\frac{a-b}{a} = flattening$ <br>\n",
    "$e^2 = 2f-f^2 = \\text{eccentricity squared}$\n",
    "### (lat, long, height) → (X,Y,Z)"
   ]
  },
  {
   "cell_type": "code",
   "execution_count": 9,
   "metadata": {},
   "outputs": [
    {
     "name": "stdout",
     "output_type": "stream",
     "text": [
      "orginal coordinates in geodetic: (55, 37, 155)\n",
      "converted coordinates in ECEF: X=2928342.79, Y=2206664.57, Z=5201510.492\n"
     ]
    }
   ],
   "source": [
    "import math\n",
    "\n",
    "#sample coordinate\n",
    "lat = 55\n",
    "lon = 37\n",
    "hgt = 155\n",
    "\n",
    "#constants\n",
    "a = 6378137\n",
    "b = 6356752\n",
    "f = 1 / 298.257223563\n",
    "e2 = 2 * f - f ** 2\n",
    "\n",
    "#converting lat and lon to radians\n",
    "lat_rad = math.radians(lat)\n",
    "lon_rad = math.radians(lon)\n",
    "\n",
    "#calculating for ECEF XYZ\n",
    "N = a / math.sqrt(1 - e2 * math.sin(lat_rad) ** 2)\n",
    "x = (N + hgt) * math.cos(lat_rad) * math.cos(lon_rad)\n",
    "y = (N + hgt) * math.cos(lat_rad) * math.sin(lon_rad)\n",
    "z = ((N * (1 - e2) + hgt) * math.sin(lat_rad))\n",
    "\n",
    "def geod2ecef(lat,lon,hgt):\n",
    "    return x, y, z\n",
    "    xyz = geod2ecef(lat,lon,hgt)\n",
    "\n",
    "print(f\"orginal coordinates in geodetic: ({lat}, {lon}, {hgt})\")\n",
    "print(f\"converted coordinates in ECEF: X={round(x,3)}, Y={round(y,3)}, Z={round(z,3)}\")"
   ]
  },
  {
   "cell_type": "markdown",
   "metadata": {},
   "source": [
    "### (X,Y,Z) → (lat, long, height)\n"
   ]
  },
  {
   "cell_type": "code",
   "execution_count": 11,
   "metadata": {},
   "outputs": [
    {
     "name": "stdout",
     "output_type": "stream",
     "text": [
      "converted XYZ back to original: lat= 55.0 degrees, lon= 37.0 degrees, height= 155\n"
     ]
    }
   ],
   "source": [
    "#converting ECEF XYZ back to original geodetic coordinate\n",
    "p = math.sqrt(x ** 2 + y ** 2)\n",
    "t = math.atan2(z * a, p * b)\n",
    "phi = math.atan2(z + e2 * b * math.sin(t) ** 3, p - e2 * a * math.cos(t) ** 3)\n",
    "lat_deg = math.degrees(phi)\n",
    "lam = math.atan2(y, x)\n",
    "lon_deg = math.degrees(lam)\n",
    "h = hgt\n",
    "\n",
    "def ecef2geod(x,y,z):\n",
    "    return lat_deg, long_deg, h\n",
    "\n",
    "print(f\"converted XYZ back to original: lat= {round(lat_deg,2)} degrees, lon= {round(lon_deg,2)} degrees, height= {h}\")"
   ]
  }
 ],
 "metadata": {
  "kernelspec": {
   "display_name": "Python 3",
   "language": "python",
   "name": "python3"
  },
  "language_info": {
   "codemirror_mode": {
    "name": "ipython",
    "version": 3
   },
   "file_extension": ".py",
   "mimetype": "text/x-python",
   "name": "python",
   "nbconvert_exporter": "python",
   "pygments_lexer": "ipython3",
   "version": "3.12.6"
  }
 },
 "nbformat": 4,
 "nbformat_minor": 2
}
